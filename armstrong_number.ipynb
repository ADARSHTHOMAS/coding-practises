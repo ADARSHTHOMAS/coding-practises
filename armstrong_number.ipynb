{
 "cells": [
  {
   "cell_type": "code",
   "execution_count": 7,
   "metadata": {},
   "outputs": [
    {
     "name": "stdout",
     "output_type": "stream",
     "text": [
      "this is not an armstrong number\n"
     ]
    }
   ],
   "source": [
    "import math\n",
    "def armstrong_num(n):\n",
    "    sum=0\n",
    "    a=n\n",
    "    while a!=0:\n",
    "        rem=a%10\n",
    "        a=a//10\n",
    "        sum=math.pow(rem,3)+sum\n",
    "    if sum==n:\n",
    "        print(n,\"is a armstrong number\")\n",
    "    else:\n",
    "        print(\"this is not an armstrong number\")\n",
    "armstrong_num(154)"
   ]
  },
  {
   "cell_type": "code",
   "execution_count": null,
   "metadata": {},
   "outputs": [],
   "source": []
  }
 ],
 "metadata": {
  "kernelspec": {
   "display_name": "Python 3",
   "language": "python",
   "name": "python3"
  },
  "language_info": {
   "codemirror_mode": {
    "name": "ipython",
    "version": 3
   },
   "file_extension": ".py",
   "mimetype": "text/x-python",
   "name": "python",
   "nbconvert_exporter": "python",
   "pygments_lexer": "ipython3",
   "version": "3.7.6"
  }
 },
 "nbformat": 4,
 "nbformat_minor": 4
}
