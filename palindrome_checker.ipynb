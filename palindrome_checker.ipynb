{
 "cells": [
  {
   "cell_type": "code",
   "execution_count": 4,
   "metadata": {},
   "outputs": [
    {
     "name": "stdout",
     "output_type": "stream",
     "text": [
      "THIS IS NOT A PALINDROME\n"
     ]
    }
   ],
   "source": [
    "def palindrome(list):\n",
    "    l=0\n",
    "    r=len(list)-1\n",
    "    while l<=r:\n",
    "        if list[l]==list[r]:\n",
    "            l=l+1\n",
    "            r=r-1\n",
    "        else:\n",
    "            print(\"THIS IS NOT A PALINDROME\")\n",
    "            break\n",
    "    else:\n",
    "        print(\"THIS IS A PALINDROME\")\n",
    "list=[1,3,4,5,1]\n",
    "palindrome(list)\n",
    "        "
   ]
  },
  {
   "cell_type": "code",
   "execution_count": null,
   "metadata": {},
   "outputs": [],
   "source": []
  },
  {
   "cell_type": "code",
   "execution_count": null,
   "metadata": {},
   "outputs": [],
   "source": []
  }
 ],
 "metadata": {
  "kernelspec": {
   "display_name": "Python 3",
   "language": "python",
   "name": "python3"
  },
  "language_info": {
   "codemirror_mode": {
    "name": "ipython",
    "version": 3
   },
   "file_extension": ".py",
   "mimetype": "text/x-python",
   "name": "python",
   "nbconvert_exporter": "python",
   "pygments_lexer": "ipython3",
   "version": "3.7.6"
  }
 },
 "nbformat": 4,
 "nbformat_minor": 4
}
