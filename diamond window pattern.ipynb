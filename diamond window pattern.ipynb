{
 "cells": [
  {
   "cell_type": "code",
   "execution_count": 18,
   "metadata": {},
   "outputs": [
    {
     "name": "stdout",
     "output_type": "stream",
     "text": [
      "**** ****\n",
      "***   ***\n",
      "**     **\n",
      "*       *\n",
      "**     **\n",
      "***   ***\n",
      "**** ****\n"
     ]
    }
   ],
   "source": [
    "def diamond_window(n):\n",
    "    mid=(n+1)//2\n",
    "    stars=(n+1)//2\n",
    "    spaces=1\n",
    "    for i in range(1,n+1):\n",
    "        for j in range(stars):\n",
    "            print(\"*\",end=\"\")\n",
    "        for j in range(spaces):\n",
    "            print(\" \",end=\"\")\n",
    "        for j in range(stars):\n",
    "            print(\"*\",end=\"\")\n",
    "        if i<mid:\n",
    "            stars=stars-1\n",
    "            spaces=spaces+2\n",
    "        else:\n",
    "            stars=stars+1\n",
    "            spaces=spaces-2\n",
    "        print()\n",
    "diamond_window(7)\n",
    "            "
   ]
  },
  {
   "cell_type": "code",
   "execution_count": null,
   "metadata": {},
   "outputs": [],
   "source": []
  }
 ],
 "metadata": {
  "kernelspec": {
   "display_name": "Python 3",
   "language": "python",
   "name": "python3"
  },
  "language_info": {
   "codemirror_mode": {
    "name": "ipython",
    "version": 3
   },
   "file_extension": ".py",
   "mimetype": "text/x-python",
   "name": "python",
   "nbconvert_exporter": "python",
   "pygments_lexer": "ipython3",
   "version": "3.7.6"
  }
 },
 "nbformat": 4,
 "nbformat_minor": 4
}
