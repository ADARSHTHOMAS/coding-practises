{
 "cells": [
  {
   "cell_type": "code",
   "execution_count": 2,
   "metadata": {},
   "outputs": [
    {
     "name": "stdout",
     "output_type": "stream",
     "text": [
      "MOVE PLATE 1  FROM  A  TO  B\n",
      "MOVE PLATE 2  FROM  A  TO  C\n",
      "MOVE PLATE 1  FROM  B  TO  C\n",
      "MOVE PLATE 3  FROM  A  TO  B\n",
      "MOVE PLATE 1  FROM  C  TO  A\n",
      "MOVE PLATE 2  FROM  C  TO  B\n",
      "MOVE PLATE 1  FROM  A  TO  B\n"
     ]
    }
   ],
   "source": [
    "def toh(src,des,aux,n):\n",
    "    if n==0:\n",
    "        return 0\n",
    "    \n",
    "    toh(src,aux,des,n-1)\n",
    "    print(\"MOVE PLATE\",n,\" FROM \",src,\" TO \",des)\n",
    "    toh(aux,des,src,n-1)\n",
    "toh(\"A\",\"B\",\"C\",3)"
   ]
  },
  {
   "cell_type": "code",
   "execution_count": null,
   "metadata": {},
   "outputs": [],
   "source": []
  }
 ],
 "metadata": {
  "kernelspec": {
   "display_name": "Python 3",
   "language": "python",
   "name": "python3"
  },
  "language_info": {
   "codemirror_mode": {
    "name": "ipython",
    "version": 3
   },
   "file_extension": ".py",
   "mimetype": "text/x-python",
   "name": "python",
   "nbconvert_exporter": "python",
   "pygments_lexer": "ipython3",
   "version": "3.7.6"
  }
 },
 "nbformat": 4,
 "nbformat_minor": 4
}
