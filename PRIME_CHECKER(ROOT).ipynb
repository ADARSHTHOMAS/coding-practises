{
 "cells": [
  {
   "cell_type": "code",
   "execution_count": 5,
   "metadata": {},
   "outputs": [
    {
     "name": "stdout",
     "output_type": "stream",
     "text": [
      "2 is a PRIME NUMBER\n"
     ]
    }
   ],
   "source": [
    "#import math\n",
    "def prime_checker(n):\n",
    "    #a=int(math.sqrt(n))\n",
    "    if n==1:\n",
    "        print(\"THIS IS A PRIME NUMBER\")\n",
    "    else:\n",
    "        i=2\n",
    "        while i*i<=n:\n",
    "            if n%i==0:\n",
    "                print(\"this is NOT a prime number\")\n",
    "                break\n",
    "            i=i+1\n",
    "        else:\n",
    "            print(n,\"is a PRIME NUMBER\")\n",
    "prime_checker(2)"
   ]
  },
  {
   "cell_type": "code",
   "execution_count": null,
   "metadata": {},
   "outputs": [],
   "source": []
  }
 ],
 "metadata": {
  "kernelspec": {
   "display_name": "Python 3",
   "language": "python",
   "name": "python3"
  },
  "language_info": {
   "codemirror_mode": {
    "name": "ipython",
    "version": 3
   },
   "file_extension": ".py",
   "mimetype": "text/x-python",
   "name": "python",
   "nbconvert_exporter": "python",
   "pygments_lexer": "ipython3",
   "version": "3.7.6"
  }
 },
 "nbformat": 4,
 "nbformat_minor": 4
}
