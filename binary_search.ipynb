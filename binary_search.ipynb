{
 "cells": [
  {
   "cell_type": "code",
   "execution_count": 12,
   "metadata": {},
   "outputs": [
    {
     "name": "stdout",
     "output_type": "stream",
     "text": [
      "0 is not found in the given list\n"
     ]
    }
   ],
   "source": [
    "def binary_search(list,val):\n",
    "    l=0\n",
    "    h=len(list)-1\n",
    "    \n",
    "    while l<=h:\n",
    "        mid=(l+h)//2\n",
    "        if list[mid]==val:\n",
    "            print(val,\"is present at\",mid+1,\"th position\")\n",
    "            break\n",
    "        else:\n",
    "            if list[mid]>val:\n",
    "                h=mid-1\n",
    "            if list[mid]<val:\n",
    "                l=mid+1\n",
    "    else:\n",
    "        print(val,\"is not found in the given list\")\n",
    "list=[1,3,5,7,9]\n",
    "val=0\n",
    "binary_search(list,val)\n",
    "\n",
    "\n",
    "    "
   ]
  },
  {
   "cell_type": "code",
   "execution_count": null,
   "metadata": {},
   "outputs": [],
   "source": []
  }
 ],
 "metadata": {
  "kernelspec": {
   "display_name": "Python 3",
   "language": "python",
   "name": "python3"
  },
  "language_info": {
   "codemirror_mode": {
    "name": "ipython",
    "version": 3
   },
   "file_extension": ".py",
   "mimetype": "text/x-python",
   "name": "python",
   "nbconvert_exporter": "python",
   "pygments_lexer": "ipython3",
   "version": "3.7.6"
  }
 },
 "nbformat": 4,
 "nbformat_minor": 4
}
