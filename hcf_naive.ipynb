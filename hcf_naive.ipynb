{
 "cells": [
  {
   "cell_type": "code",
   "execution_count": null,
   "metadata": {},
   "outputs": [],
   "source": [
    "def hcf_naive(n1,n2):\n",
    "    a=min(n1,n2)\n",
    "    i=1\n",
    "    prod=1\n",
    "    while i<=a:\n",
    "        if n1%i==0 and n2%i==0:\n",
    "            prod=i\n",
    "    print(\"hcf of \",n1,\"& \",n2,\" is \",prod)\n",
    "hcf_naive(2,4)"
   ]
  },
  {
   "cell_type": "code",
   "execution_count": null,
   "metadata": {},
   "outputs": [],
   "source": []
  }
 ],
 "metadata": {
  "kernelspec": {
   "display_name": "Python 3",
   "language": "python",
   "name": "python3"
  },
  "language_info": {
   "codemirror_mode": {
    "name": "ipython",
    "version": 3
   },
   "file_extension": ".py",
   "mimetype": "text/x-python",
   "name": "python",
   "nbconvert_exporter": "python",
   "pygments_lexer": "ipython3",
   "version": "3.7.6"
  }
 },
 "nbformat": 4,
 "nbformat_minor": 4
}
