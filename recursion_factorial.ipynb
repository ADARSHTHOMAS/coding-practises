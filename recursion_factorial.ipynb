{
 "cells": [
  {
   "cell_type": "code",
   "execution_count": 8,
   "metadata": {},
   "outputs": [
    {
     "name": "stdout",
     "output_type": "stream",
     "text": [
      "factorial of 10 is 3628800\n"
     ]
    }
   ],
   "source": [
    "def rec_fact(n):\n",
    "    if n==0:\n",
    "        return 1\n",
    "    prod=rec_fact(n-1)\n",
    "    return prod*n\n",
    "n=10\n",
    "#prod=1\n",
    "factor=rec_fact(n)\n",
    "print(\"factorial of\",n,\"is\",factor)"
   ]
  },
  {
   "cell_type": "code",
   "execution_count": null,
   "metadata": {},
   "outputs": [],
   "source": []
  }
 ],
 "metadata": {
  "kernelspec": {
   "display_name": "Python 3",
   "language": "python",
   "name": "python3"
  }
 },
 "nbformat": 4,
 "nbformat_minor": 4
}
