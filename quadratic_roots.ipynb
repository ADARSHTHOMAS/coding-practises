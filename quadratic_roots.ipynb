{
 "cells": [
  {
   "cell_type": "code",
   "execution_count": 6,
   "metadata": {},
   "outputs": [
    {
     "name": "stdout",
     "output_type": "stream",
     "text": [
      "THE ROOTS ARE IMAGINARY & THEY ARE (-25-50j) & (-25+50j)\n"
     ]
    }
   ],
   "source": [
    "import math\n",
    "import cmath\n",
    "def quadratic_roots(a,b,c):\n",
    "    d=b*b-4*a*c\n",
    "    if d>=0:\n",
    "        x1=(-b+math.sqrt(d))/2*a\n",
    "        x2=(-b-math.sqrt(d))/2*a\n",
    "        print(\"THE ROOTS ARE REAL & THEY ARE\",x1,\"&\",x2)\n",
    "    else:\n",
    "        d1=math.sqrt(-1*d)\n",
    "        b1=-b/2*a\n",
    "        x1=complex(b1,-d1/2*a)\n",
    "        x2=complex(b1,d1/2*a)\n",
    "        print(\"THE ROOTS ARE IMAGINARY & THEY ARE\",x1,\"&\",x2)\n",
    "\n",
    "quadratic_roots(5,10,25)\n",
    "        \n",
    "        "
   ]
  },
  {
   "cell_type": "code",
   "execution_count": null,
   "metadata": {},
   "outputs": [],
   "source": []
  }
 ],
 "metadata": {
  "kernelspec": {
   "display_name": "Python 3",
   "language": "python",
   "name": "python3"
  },
  "language_info": {
   "codemirror_mode": {
    "name": "ipython",
    "version": 3
   },
   "file_extension": ".py",
   "mimetype": "text/x-python",
   "name": "python",
   "nbconvert_exporter": "python",
   "pygments_lexer": "ipython3",
   "version": "3.7.6"
  }
 },
 "nbformat": 4,
 "nbformat_minor": 4
}
