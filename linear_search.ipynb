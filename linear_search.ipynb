{
 "cells": [
  {
   "cell_type": "code",
   "execution_count": 4,
   "metadata": {},
   "outputs": [
    {
     "name": "stdout",
     "output_type": "stream",
     "text": [
      "6 is found at 3 th position\n"
     ]
    }
   ],
   "source": [
    "def linear_search(list,val):\n",
    "    i=0\n",
    "    flag=0\n",
    "    for i in list:\n",
    "        #while i<=len(list)-1\n",
    "        #if list[i]=val:\n",
    "        flag=flag+1\n",
    "        if i==val:\n",
    "            print(val,\"is found at\",flag,\"th position\")\n",
    "            break\n",
    "    else:\n",
    "        print(val,\"is NOT found in the given list\")\n",
    "list=[1,4,6,2,3,9]\n",
    "val=6\n",
    "linear_search(list,val)"
   ]
  },
  {
   "cell_type": "code",
   "execution_count": null,
   "metadata": {},
   "outputs": [],
   "source": []
  }
 ],
 "metadata": {
  "kernelspec": {
   "display_name": "Python 3",
   "language": "python",
   "name": "python3"
  },
  "language_info": {
   "codemirror_mode": {
    "name": "ipython",
    "version": 3
   },
   "file_extension": ".py",
   "mimetype": "text/x-python",
   "name": "python",
   "nbconvert_exporter": "python",
   "pygments_lexer": "ipython3",
   "version": "3.7.6"
  }
 },
 "nbformat": 4,
 "nbformat_minor": 4
}
